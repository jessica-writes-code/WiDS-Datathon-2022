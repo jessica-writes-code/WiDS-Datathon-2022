{
 "cells": [
  {
   "cell_type": "code",
   "execution_count": null,
   "id": "92232c32",
   "metadata": {},
   "outputs": [],
   "source": [
    "from sklearn.model_selection import cross_val_score\n",
    "\n",
    "from predictors import match\n",
    "from utils import crossvalidation, helpers"
   ]
  },
  {
   "cell_type": "code",
   "execution_count": null,
   "id": "cd1856f7",
   "metadata": {},
   "outputs": [],
   "source": [
    "# Average Match Predictor\n",
    "#train_df, test_df = helpers.load_data()\n",
    "#\n",
    "#avg_match_predictor = match.AverageMatchPredictor()\n",
    "#cv_results = crossvalidation.calculate_cv_error(train_df, avg_match_predictor)\n",
    "#print(sum(cv_results) / len(cv_results), cv_results)"
   ]
  },
  {
   "cell_type": "code",
   "execution_count": null,
   "id": "21cc1521",
   "metadata": {},
   "outputs": [],
   "source": [
    "#train_df, test_df = helpers.load_data()\n",
    "#\n",
    "#model = match.AverageMatchPredictor()\n",
    "#model.fit(train_df.drop('site_eui', axis=1), train_df['site_eui'])\n",
    "#test_df['predicted_site_eui'] = model.predict(test_df)\n",
    "#test_df = test_df.rename(columns={'predicted_site_eui': 'site_eui'})\n",
    "#test_df[['id', 'site_eui']].to_csv('average_match_predictor.csv', index=False)"
   ]
  },
  {
   "cell_type": "code",
   "execution_count": null,
   "id": "62f38e56",
   "metadata": {},
   "outputs": [],
   "source": [
    "# Model Match Predictor\n",
    "train_df, test_df = helpers.load_data()\n",
    "\n",
    "mdl_match_predictor = match.ModelMatchPredictor()\n",
    "cv_results = crossvalidation.calculate_cv_error(train_df, mdl_match_predictor)\n",
    "print(sum(cv_results) / len(cv_results), cv_results)"
   ]
  },
  {
   "cell_type": "code",
   "execution_count": null,
   "id": "1cee0d06",
   "metadata": {},
   "outputs": [],
   "source": [
    "train_df, test_df = helpers.load_data()\n",
    "\n",
    "model = match.ModelMatchPredictor()\n",
    "predictions_df = helpers.run_model(model, train_df, test_df)\n",
    "predictions_df[['id', 'site_eui']].to_csv('model_match_predictor.csv', index=False)"
   ]
  },
  {
   "cell_type": "code",
   "execution_count": null,
   "id": "a495a258",
   "metadata": {},
   "outputs": [],
   "source": []
  }
 ],
 "metadata": {
  "kernelspec": {
   "display_name": "Python 3 (ipykernel)",
   "language": "python",
   "name": "python3"
  },
  "language_info": {
   "codemirror_mode": {
    "name": "ipython",
    "version": 3
   },
   "file_extension": ".py",
   "mimetype": "text/x-python",
   "name": "python",
   "nbconvert_exporter": "python",
   "pygments_lexer": "ipython3",
   "version": "3.9.7"
  }
 },
 "nbformat": 4,
 "nbformat_minor": 5
}
