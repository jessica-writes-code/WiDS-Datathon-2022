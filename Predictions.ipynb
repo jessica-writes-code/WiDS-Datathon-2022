{
 "cells": [
  {
   "cell_type": "code",
   "execution_count": null,
   "id": "92232c32",
   "metadata": {},
   "outputs": [],
   "source": [
    "from sklearn.model_selection import cross_val_score\n",
    "\n",
    "from predictors import match\n",
    "from utils import crossvalidation, helpers"
   ]
  },
  {
   "cell_type": "code",
   "execution_count": null,
   "id": "101c5ed7",
   "metadata": {},
   "outputs": [],
   "source": [
    "train_df, test_df = helpers.load_data()"
   ]
  },
  {
   "cell_type": "code",
   "execution_count": null,
   "id": "cd1856f7",
   "metadata": {},
   "outputs": [],
   "source": [
    "# Average Match Predictor\n",
    "avg_match_predictor = match.AverageMatchPredictor()\n",
    "crossvalidation.calculate_cv_error(train_df, avg_match_predictor)"
   ]
  },
  {
   "cell_type": "code",
   "execution_count": null,
   "id": "62f38e56",
   "metadata": {},
   "outputs": [],
   "source": []
  }
 ],
 "metadata": {
  "kernelspec": {
   "display_name": "Python 3 (ipykernel)",
   "language": "python",
   "name": "python3"
  },
  "language_info": {
   "codemirror_mode": {
    "name": "ipython",
    "version": 3
   },
   "file_extension": ".py",
   "mimetype": "text/x-python",
   "name": "python",
   "nbconvert_exporter": "python",
   "pygments_lexer": "ipython3",
   "version": "3.9.7"
  }
 },
 "nbformat": 4,
 "nbformat_minor": 5
}
