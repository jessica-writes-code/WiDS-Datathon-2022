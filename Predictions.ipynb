{
 "cells": [
  {
   "cell_type": "code",
   "execution_count": null,
   "id": "92232c32",
   "metadata": {},
   "outputs": [],
   "source": [
    "from predictors import match\n",
    "import helpers"
   ]
  },
  {
   "cell_type": "code",
   "execution_count": null,
   "id": "101c5ed7",
   "metadata": {},
   "outputs": [],
   "source": [
    "train_df, test_df = helpers.load_data()"
   ]
  },
  {
   "cell_type": "code",
   "execution_count": null,
   "id": "96e1ff9d",
   "metadata": {},
   "outputs": [],
   "source": [
    "# Average Match Predictor\n",
    "avg_match_predictor = match.AverageMatchPredictor()\n",
    "avg_match_predictor.fit(train_df, train_df['site_eui'])\n",
    "test_df['site_eui'] = avg_match_predictor.predict(test_df)\n",
    "test_df[['id', 'site_eui']].to_csv('average_match_predictor.csv', index=False)"
   ]
  },
  {
   "cell_type": "code",
   "execution_count": null,
   "id": "62f38e56",
   "metadata": {},
   "outputs": [],
   "source": []
  }
 ],
 "metadata": {
  "kernelspec": {
   "display_name": "Python 3 (ipykernel)",
   "language": "python",
   "name": "python3"
  },
  "language_info": {
   "codemirror_mode": {
    "name": "ipython",
    "version": 3
   },
   "file_extension": ".py",
   "mimetype": "text/x-python",
   "name": "python",
   "nbconvert_exporter": "python",
   "pygments_lexer": "ipython3",
   "version": "3.9.7"
  }
 },
 "nbformat": 4,
 "nbformat_minor": 5
}
