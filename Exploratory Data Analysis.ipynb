{
 "cells": [
  {
   "cell_type": "code",
   "execution_count": null,
   "id": "fdb61590",
   "metadata": {},
   "outputs": [],
   "source": [
    "import plotly.express as px\n",
    "\n",
    "from utils import helpers\n",
    "\n",
    "train_df, test_df = helpers.load_data()"
   ]
  },
  {
   "cell_type": "code",
   "execution_count": null,
   "id": "03cbb7bf",
   "metadata": {},
   "outputs": [],
   "source": [
    "train_df"
   ]
  },
  {
   "cell_type": "markdown",
   "id": "3b0bc3b4",
   "metadata": {},
   "source": [
    "# Year Factor"
   ]
  },
  {
   "cell_type": "code",
   "execution_count": null,
   "id": "f77ab05b",
   "metadata": {},
   "outputs": [],
   "source": [
    "train_df[\"Year_Factor\"].value_counts(dropna=False)"
   ]
  },
  {
   "cell_type": "code",
   "execution_count": null,
   "id": "dc8f0d71",
   "metadata": {},
   "outputs": [],
   "source": [
    "test_df[\"Year_Factor\"].value_counts(dropna=False)"
   ]
  },
  {
   "cell_type": "markdown",
   "id": "f991b321",
   "metadata": {},
   "source": [
    "Note: Test DF only has the most recent year and there is no year overlap between train & test."
   ]
  },
  {
   "cell_type": "markdown",
   "id": "6b056ed4",
   "metadata": {},
   "source": [
    "# State Factor"
   ]
  },
  {
   "cell_type": "code",
   "execution_count": null,
   "id": "4121900a",
   "metadata": {},
   "outputs": [],
   "source": [
    "train_df[\"State_Factor\"].value_counts(dropna=False)"
   ]
  },
  {
   "cell_type": "code",
   "execution_count": null,
   "id": "a171a34c",
   "metadata": {},
   "outputs": [],
   "source": [
    "test_df[\"State_Factor\"].value_counts(dropna=False)"
   ]
  },
  {
   "cell_type": "markdown",
   "id": "528aed74",
   "metadata": {},
   "source": [
    "Note: Test DF doesn't have `State_6`; it makes up the most observations in Train DF"
   ]
  },
  {
   "cell_type": "markdown",
   "id": "dd518795",
   "metadata": {},
   "source": [
    "# Building Class"
   ]
  },
  {
   "cell_type": "code",
   "execution_count": null,
   "id": "082226c4",
   "metadata": {},
   "outputs": [],
   "source": [
    "train_df[\"building_class\"].value_counts(dropna=False)"
   ]
  },
  {
   "cell_type": "code",
   "execution_count": null,
   "id": "68d80732",
   "metadata": {},
   "outputs": [],
   "source": [
    "test_df[\"building_class\"].value_counts(dropna=False)"
   ]
  },
  {
   "cell_type": "markdown",
   "id": "9b349c28",
   "metadata": {},
   "source": [
    "Note: There are slightly more residential buildings in Train DF; the opposite is true in Test DF."
   ]
  },
  {
   "cell_type": "markdown",
   "id": "0d653642",
   "metadata": {},
   "source": [
    "# Facility Type"
   ]
  },
  {
   "cell_type": "code",
   "execution_count": null,
   "id": "d837f577",
   "metadata": {
    "scrolled": true
   },
   "outputs": [],
   "source": [
    "train_df[\"facility_type\"].value_counts(dropna=False)"
   ]
  },
  {
   "cell_type": "code",
   "execution_count": null,
   "id": "c50bdeb8",
   "metadata": {
    "scrolled": true
   },
   "outputs": [],
   "source": [
    "test_df[\"facility_type\"].value_counts(dropna=False)"
   ]
  },
  {
   "cell_type": "markdown",
   "id": "45f8eef6",
   "metadata": {},
   "source": [
    "Note: This distribution is a bit of a hot mess in both DFs."
   ]
  },
  {
   "cell_type": "markdown",
   "id": "804465e2",
   "metadata": {},
   "source": [
    "# Floor Area"
   ]
  },
  {
   "cell_type": "code",
   "execution_count": null,
   "id": "5716dc5c",
   "metadata": {},
   "outputs": [],
   "source": [
    "fig = px.histogram(train_df, x=\"floor_area\")\n",
    "fig.show()"
   ]
  },
  {
   "cell_type": "code",
   "execution_count": null,
   "id": "5f45a44d",
   "metadata": {},
   "outputs": [],
   "source": [
    "fig = px.histogram(test_df, x=\"floor_area\")\n",
    "fig.show()"
   ]
  },
  {
   "cell_type": "markdown",
   "id": "87fe0f7f",
   "metadata": {},
   "source": [
    "Note: WHOA that's a long tail. The largest building in the world has 4.2 million square feet, so...this seems wrong. https://en.wikipedia.org/wiki/List_of_largest_buildings"
   ]
  },
  {
   "cell_type": "markdown",
   "id": "e6b898e4",
   "metadata": {},
   "source": [
    "# Year Built"
   ]
  },
  {
   "cell_type": "code",
   "execution_count": null,
   "id": "5f44543c",
   "metadata": {},
   "outputs": [],
   "source": [
    "fig = px.histogram(train_df, x=\"year_built\")\n",
    "fig.show()"
   ]
  },
  {
   "cell_type": "code",
   "execution_count": null,
   "id": "af71f984",
   "metadata": {},
   "outputs": [],
   "source": [
    "fig = px.histogram(test_df, x=\"year_built\")\n",
    "fig.show()"
   ]
  },
  {
   "cell_type": "markdown",
   "id": "dd622ac8",
   "metadata": {},
   "source": [
    "Note: We should probably get rid of some of these 0's and other things below 1900."
   ]
  },
  {
   "cell_type": "markdown",
   "id": "37976d89",
   "metadata": {},
   "source": [
    "# Energy Star Rating"
   ]
  },
  {
   "cell_type": "code",
   "execution_count": null,
   "id": "270048b8",
   "metadata": {},
   "outputs": [],
   "source": [
    "fig = px.histogram(train_df, x=\"energy_star_rating\")\n",
    "fig.show()"
   ]
  },
  {
   "cell_type": "code",
   "execution_count": null,
   "id": "b09776b8",
   "metadata": {},
   "outputs": [],
   "source": [
    "fig = px.histogram(test_df, x=\"energy_star_rating\")\n",
    "fig.show()"
   ]
  },
  {
   "cell_type": "code",
   "execution_count": null,
   "id": "a78cf8d3",
   "metadata": {},
   "outputs": [],
   "source": []
  }
 ],
 "metadata": {
  "kernelspec": {
   "display_name": "Python 3 (ipykernel)",
   "language": "python",
   "name": "python3"
  },
  "language_info": {
   "codemirror_mode": {
    "name": "ipython",
    "version": 3
   },
   "file_extension": ".py",
   "mimetype": "text/x-python",
   "name": "python",
   "nbconvert_exporter": "python",
   "pygments_lexer": "ipython3",
   "version": "3.9.7"
  }
 },
 "nbformat": 4,
 "nbformat_minor": 5
}
